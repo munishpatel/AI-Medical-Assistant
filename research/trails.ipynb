{
 "cells": [
  {
   "cell_type": "markdown",
   "id": "e30a4f5b",
   "metadata": {},
   "source": [
    "### Setting up working directory"
   ]
  },
  {
   "cell_type": "code",
   "execution_count": 2,
   "id": "07634c00",
   "metadata": {},
   "outputs": [
    {
     "name": "stdout",
     "output_type": "stream",
     "text": [
      "OK\n"
     ]
    }
   ],
   "source": [
    "print(\"OK\")"
   ]
  },
  {
   "cell_type": "code",
   "execution_count": 3,
   "id": "2383129b",
   "metadata": {},
   "outputs": [
    {
     "data": {
      "text/plain": [
       "'/Users/munishpatel/AI-Medical-Assistant/research'"
      ]
     },
     "execution_count": 3,
     "metadata": {},
     "output_type": "execute_result"
    }
   ],
   "source": [
    "%pwd"
   ]
  },
  {
   "cell_type": "code",
   "execution_count": 7,
   "id": "7067b407",
   "metadata": {},
   "outputs": [],
   "source": [
    "import os\n",
    "os.chdir(\"../\")"
   ]
  },
  {
   "cell_type": "markdown",
   "id": "35c97771",
   "metadata": {},
   "source": [
    "### Loading and Extracting data from the pdf"
   ]
  },
  {
   "cell_type": "code",
   "execution_count": 4,
   "id": "d8c58ffe",
   "metadata": {},
   "outputs": [],
   "source": [
    "from langchain.document_loaders import PyPDFLoader, DirectoryLoader\n",
    "from langchain.text_splitter import RecursiveCharacterTextSplitter"
   ]
  },
  {
   "cell_type": "code",
   "execution_count": 5,
   "id": "8324c402",
   "metadata": {},
   "outputs": [],
   "source": [
    "#Extract the data from the source (pdf) documents\n",
    "def load_pdf_file(data):\n",
    "    loader = DirectoryLoader(data, glob = \"*.pdf\", loader_cls = PyPDFLoader)\n",
    "    #Here *.pdf means only loading pdf's\n",
    "    documents = loader.load()\n",
    "    return documents\n"
   ]
  },
  {
   "cell_type": "code",
   "execution_count": 8,
   "id": "2d15bd4d",
   "metadata": {},
   "outputs": [],
   "source": [
    "extracted_data = load_pdf_file(data = 'Data/')"
   ]
  },
  {
   "cell_type": "code",
   "execution_count": 9,
   "id": "0910b642",
   "metadata": {},
   "outputs": [
    {
     "name": "stdout",
     "output_type": "stream",
     "text": [
      "Length of PDF pages: 4505\n"
     ]
    }
   ],
   "source": [
    "# extracted_data\n",
    "print(\"Length of PDF pages:\", len(extracted_data))"
   ]
  },
  {
   "cell_type": "markdown",
   "id": "49d121f5",
   "metadata": {},
   "source": [
    "### Performing Chunking operation"
   ]
  },
  {
   "cell_type": "code",
   "execution_count": 10,
   "id": "95258f37",
   "metadata": {},
   "outputs": [],
   "source": [
    "#Splitting the data into small text chunks\n",
    "def text_split(extracted_data):\n",
    "    test_splitter = RecursiveCharacterTextSplitter(chunk_size = 500, chunk_overlap = 20)\n",
    "    text_chunks = test_splitter.split_documents(extracted_data)\n",
    "    return text_chunks"
   ]
  },
  {
   "cell_type": "code",
   "execution_count": 11,
   "id": "3337990a",
   "metadata": {},
   "outputs": [
    {
     "name": "stdout",
     "output_type": "stream",
     "text": [
      "The length of the text chunks is: 40000\n"
     ]
    }
   ],
   "source": [
    "text_chunks = text_split(extracted_data)\n",
    "print(\"The length of the text chunks is:\", len(text_chunks))"
   ]
  },
  {
   "cell_type": "code",
   "execution_count": 13,
   "id": "7f6f4369",
   "metadata": {},
   "outputs": [],
   "source": [
    "# text_chunks"
   ]
  },
  {
   "cell_type": "markdown",
   "id": "9184fbe4",
   "metadata": {},
   "source": [
    "### Importing Embedding model"
   ]
  },
  {
   "cell_type": "code",
   "execution_count": 14,
   "id": "c1978ad2",
   "metadata": {},
   "outputs": [],
   "source": [
    "from langchain.embeddings import HuggingFaceEmbeddings\n",
    "\n",
    "def get_embedding_model():\n",
    "    embedding_model = HuggingFaceEmbeddings(model_name = 'sentence-transformers/all-MiniLM-L6-v2')\n",
    "    return embedding_model"
   ]
  },
  {
   "cell_type": "code",
   "execution_count": 15,
   "id": "a51204e1",
   "metadata": {},
   "outputs": [
    {
     "name": "stderr",
     "output_type": "stream",
     "text": [
      "/var/folders/vw/cb9kf5y16b71m1bg2wn012sh0000gn/T/ipykernel_10087/2584123607.py:4: LangChainDeprecationWarning: The class `HuggingFaceEmbeddings` was deprecated in LangChain 0.2.2 and will be removed in 1.0. An updated version of the class exists in the :class:`~langchain-huggingface package and should be used instead. To use it run `pip install -U :class:`~langchain-huggingface` and import as `from :class:`~langchain_huggingface import HuggingFaceEmbeddings``.\n",
      "  embedding_model = HuggingFaceEmbeddings(model_name = 'sentence-transformers/all-MiniLM-L6-v2')\n",
      "/Users/munishpatel/AI-Medical-Assistant/.venv/lib/python3.11/site-packages/tqdm/auto.py:21: TqdmWarning: IProgress not found. Please update jupyter and ipywidgets. See https://ipywidgets.readthedocs.io/en/stable/user_install.html\n",
      "  from .autonotebook import tqdm as notebook_tqdm\n"
     ]
    }
   ],
   "source": [
    "embedding_model = get_embedding_model()"
   ]
  },
  {
   "cell_type": "code",
   "execution_count": 16,
   "id": "c043f710",
   "metadata": {},
   "outputs": [
    {
     "name": "stdout",
     "output_type": "stream",
     "text": [
      "Length 384\n"
     ]
    }
   ],
   "source": [
    "query_result = embedding_model.embed_query(\"Hello world\")\n",
    "print(\"Length\", len(query_result))"
   ]
  },
  {
   "cell_type": "code",
   "execution_count": 18,
   "id": "88db774b",
   "metadata": {},
   "outputs": [],
   "source": [
    "# query_result"
   ]
  },
  {
   "cell_type": "markdown",
   "id": "cb614984",
   "metadata": {},
   "source": [
    "### Connecting Pinecone and OpenAI"
   ]
  },
  {
   "cell_type": "code",
   "execution_count": 34,
   "id": "2a8ee2f7",
   "metadata": {},
   "outputs": [
    {
     "data": {
      "text/plain": [
       "True"
      ]
     },
     "execution_count": 34,
     "metadata": {},
     "output_type": "execute_result"
    }
   ],
   "source": [
    "# Loading environment variables\n",
    "from dotenv import load_dotenv\n",
    "load_dotenv()"
   ]
  },
  {
   "cell_type": "code",
   "execution_count": 35,
   "id": "8afe99b3",
   "metadata": {},
   "outputs": [],
   "source": [
    "# Loading the API keys\n",
    "PINECONE_API_KEY=os.environ.get('PINECONE_API_KEY')\n",
    "OPENAI_API_KEY=os.environ.get('OPENAI_API_KEY')"
   ]
  },
  {
   "cell_type": "code",
   "execution_count": 36,
   "id": "5cb50c58",
   "metadata": {},
   "outputs": [
    {
     "data": {
      "text/plain": [
       "{\n",
       "    \"name\": \"medicalbot\",\n",
       "    \"metric\": \"cosine\",\n",
       "    \"host\": \"medicalbot-5dbkhxm.svc.aped-4627-b74a.pinecone.io\",\n",
       "    \"spec\": {\n",
       "        \"serverless\": {\n",
       "            \"cloud\": \"aws\",\n",
       "            \"region\": \"us-east-1\"\n",
       "        }\n",
       "    },\n",
       "    \"status\": {\n",
       "        \"ready\": true,\n",
       "        \"state\": \"Ready\"\n",
       "    },\n",
       "    \"vector_type\": \"dense\",\n",
       "    \"dimension\": 384,\n",
       "    \"deletion_protection\": \"disabled\",\n",
       "    \"tags\": null\n",
       "}"
      ]
     },
     "execution_count": 36,
     "metadata": {},
     "output_type": "execute_result"
    }
   ],
   "source": [
    "# Creating an Index in Pinecone\n",
    "from pinecone.grpc import PineconeGRPC as Pinecone\n",
    "from pinecone import ServerlessSpec\n",
    "import os\n",
    "\n",
    "pc = Pinecone(api_key=PINECONE_API_KEY)\n",
    "\n",
    "index_name = \"medicalbot\"\n",
    "\n",
    "\n",
    "pc.create_index(\n",
    "    name=index_name,\n",
    "    dimension=384, \n",
    "    metric=\"cosine\", \n",
    "    spec=ServerlessSpec(\n",
    "        cloud=\"aws\", \n",
    "        region=\"us-east-1\"\n",
    "    ) \n",
    ") "
   ]
  },
  {
   "cell_type": "code",
   "execution_count": null,
   "id": "3531dcbc",
   "metadata": {},
   "outputs": [],
   "source": [
    "# Setting environment variables\n",
    "import os\n",
    "os.environ[\"PINECONE_API_KEY\"] = PINECONE_API_KEY\n",
    "os.environ[\"OPENAI_API_KEY\"] = OPENAI_API_KEY"
   ]
  },
  {
   "cell_type": "code",
   "execution_count": 37,
   "id": "4dcd9578",
   "metadata": {},
   "outputs": [],
   "source": [
    "# All text chunks are vector embedded and inserted into Pinecone Index\n",
    "from langchain_pinecone import PineconeVectorStore\n",
    "\n",
    "docsearch = PineconeVectorStore.from_documents(\n",
    "    documents=text_chunks,\n",
    "    index_name=index_name,\n",
    "    embedding=embedding_model, \n",
    ")"
   ]
  },
  {
   "cell_type": "code",
   "execution_count": 38,
   "id": "c560f59a",
   "metadata": {},
   "outputs": [],
   "source": [
    "# Loading the index data from Pinecone\n",
    "from langchain_pinecone import PineconeVectorStore\n",
    "\n",
    "docsearch = PineconeVectorStore.from_existing_index(\n",
    "    index_name=index_name,\n",
    "    embedding=embedding_model\n",
    ")"
   ]
  },
  {
   "cell_type": "code",
   "execution_count": 40,
   "id": "c1c4e196",
   "metadata": {},
   "outputs": [],
   "source": [
    "# Creating a retriever from the document search\n",
    "docsearch\n",
    "retriever = docsearch.as_retriever(search_type=\"similarity\", search_kwargs={\"k\":3})"
   ]
  },
  {
   "cell_type": "code",
   "execution_count": 41,
   "id": "47685287",
   "metadata": {},
   "outputs": [
    {
     "data": {
      "text/plain": [
       "[Document(id='777c9467-00b6-451d-a6ec-1b59591f33ff', metadata={'creationdate': '2006-10-16T20:19:33+02:00', 'creator': 'Adobe Acrobat 6.0', 'moddate': '2006-10-16T22:03:45+02:00', 'page': 1185.0, 'page_label': '1156', 'producer': 'PDFlib+PDI 6.0.3 (SunOS)', 'source': 'Data/Medical Book.pdf', 'total_pages': 4505.0}, page_content='that a person may not know that he or she has it. Early\\nsigns are lethargy, extreme thirst, and frequent urina-\\ntion. Other symptoms may include sudden weight loss,\\nslow wound healing, urinary tract infections, gum dis-\\nease, or blurred vision. It is not unusual for Type II\\ndiabetes to be detected while a patient is seeing a doctor\\nabout another health concern that is actually being\\ncaused by the yet undiagnosed diabetes.\\nIndividuals who are at high risk of developing'),\n",
       " Document(id='c765a2d9-1305-46f1-8550-8070a9a8e9dc', metadata={'creationdate': '2006-10-16T20:19:33+02:00', 'creator': 'Adobe Acrobat 6.0', 'moddate': '2006-10-16T22:03:45+02:00', 'page': 1946.0, 'page_label': '1917', 'producer': 'PDFlib+PDI 6.0.3 (SunOS)', 'source': 'Data/Medical Book.pdf', 'total_pages': 4505.0}, page_content='Symptoms may persist in a variety of forms for long\\nperiods of time. Symptoms also can change over time\\nwithin the same person. Some of the factors that can\\ninfluence symptoms include physical or mental activ-\\nities, physical or mental state, the amount of time\\npassed since the last meal, the amount and quality of\\nsleep, and exercise patterns.\\nDiagnosis\\nDrug-induced hypoglycemia\\nOnce diabetes is diagnosed, the patient then moni-\\ntors his or her blood sugar level with a portable'),\n",
       " Document(id='3d2d98c9-f79c-4d9b-b5cb-8d436bcb53e1', metadata={'creationdate': '2006-10-16T20:19:33+02:00', 'creator': 'Adobe Acrobat 6.0', 'moddate': '2006-10-16T22:03:45+02:00', 'page': 1184.0, 'page_label': '1155', 'producer': 'PDFlib+PDI 6.0.3 (SunOS)', 'source': 'Data/Medical Book.pdf', 'total_pages': 4505.0}, page_content='Diabetes mellitus\\nDefinition\\nDiabetes mellitus is a condition in which the pan-\\ncreas no longer produces enough insulin or cells stop\\nresponding to the insulin that is produced, so that\\nglucose in the blood cannot be absorbed into the\\ncells of the body. Symptoms include frequent urina-\\ntion, lethargy, excessive thirst, and hunger. The treat-\\nment includes changes in diet, oral medications, and in\\nsome cases, daily injections of insulin.\\nDescription')]"
      ]
     },
     "execution_count": 41,
     "metadata": {},
     "output_type": "execute_result"
    }
   ],
   "source": [
    "retrieved_docs = retriever.invoke(\"What is the symptom of diabetes?\")\n",
    "retrieved_docs"
   ]
  },
  {
   "cell_type": "code",
   "execution_count": 42,
   "id": "c4dd1246",
   "metadata": {},
   "outputs": [],
   "source": [
    "# Creating a OpenAI model instance\n",
    "from langchain_openai import OpenAI\n",
    "\n",
    "llm = OpenAI(temperature=0.4, max_tokens=500)"
   ]
  },
  {
   "cell_type": "code",
   "execution_count": 51,
   "id": "b4a3adf6",
   "metadata": {},
   "outputs": [],
   "source": [
    "# \n",
    "from langchain.chains import create_retrieval_chain\n",
    "from langchain.chains.combine_documents import create_stuff_documents_chain\n",
    "from langchain_core.prompts import ChatPromptTemplate\n",
    "\n",
    "\n",
    "system_prompt = (\n",
    "    \"You are a medical assistant that can ONLY answer questions based on the specific medical document \"\n",
    "    \"that has been loaded into your knowledge base. Use ONLY the following pieces of retrieved context \"\n",
    "    \"to answer the question. If the question cannot be answered using the specific information found \"\n",
    "    \"in the retrieved context, respond with 'I cannot answer this question as this information is not \"\n",
    "    \"present in the knowledge base.' Do not use any external knowledge. Keep answers concise \"\n",
    "    \"and use three sentences maximum.\"\n",
    "    \"\\n\\n\"\n",
    "    \"{context}\"\n",
    ")\n",
    "\n",
    "\n",
    "prompt = ChatPromptTemplate.from_messages(\n",
    "    [\n",
    "        (\"system\", system_prompt),\n",
    "        (\"human\", \"{input}\"),\n",
    "    ]\n",
    ")"
   ]
  },
  {
   "cell_type": "code",
   "execution_count": 48,
   "id": "cdb6e5e0",
   "metadata": {},
   "outputs": [],
   "source": [
    "question_answer_chain = create_stuff_documents_chain(llm, prompt)\n",
    "rag_chain = create_retrieval_chain(retriever, question_answer_chain)"
   ]
  },
  {
   "cell_type": "code",
   "execution_count": 49,
   "id": "4a3f2126",
   "metadata": {},
   "outputs": [
    {
     "name": "stdout",
     "output_type": "stream",
     "text": [
      "\n",
      "\n",
      "Symptoms of diabetes include frequent urination, lethargy, excessive thirst, and hunger. These symptoms can persist for long periods of time and may change over time within the same person. They can also be influenced by physical or mental activities, physical or mental state, the amount of time passed since the last meal, the amount and quality of sleep, and exercise patterns.\n"
     ]
    }
   ],
   "source": [
    "response = rag_chain.invoke({\"input\": \"What is the symptom of diabetes?\"})\n",
    "print(response[\"answer\"])"
   ]
  },
  {
   "cell_type": "code",
   "execution_count": 52,
   "id": "d349e245",
   "metadata": {},
   "outputs": [
    {
     "name": "stdout",
     "output_type": "stream",
     "text": [
      "\n",
      "I cannot answer this question as this information is not present in the loaded medical document.\n"
     ]
    }
   ],
   "source": [
    "response = rag_chain.invoke({\"input\": \"What is stats?\"})\n",
    "print(response[\"answer\"])"
   ]
  },
  {
   "cell_type": "code",
   "execution_count": null,
   "id": "038e3bff",
   "metadata": {},
   "outputs": [],
   "source": []
  }
 ],
 "metadata": {
  "kernelspec": {
   "display_name": ".venv (3.11.11)",
   "language": "python",
   "name": "python3"
  },
  "language_info": {
   "codemirror_mode": {
    "name": "ipython",
    "version": 3
   },
   "file_extension": ".py",
   "mimetype": "text/x-python",
   "name": "python",
   "nbconvert_exporter": "python",
   "pygments_lexer": "ipython3",
   "version": "3.11.11"
  }
 },
 "nbformat": 4,
 "nbformat_minor": 5
}
